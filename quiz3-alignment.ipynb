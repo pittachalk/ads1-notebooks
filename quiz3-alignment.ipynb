{
 "cells": [
  {
   "cell_type": "markdown",
   "metadata": {},
   "source": [
    "## Question 1 & 2"
   ]
  },
  {
   "cell_type": "markdown",
   "metadata": {},
   "source": [
    "Comparisons to editDistance algorithm:\n",
    "\n",
    "* first row set to 0\n",
    "* rows: P, columns: T\n",
    "* first row: all 0\n",
    "* get minimal value of bottom row"
   ]
  },
  {
   "cell_type": "code",
   "execution_count": 1,
   "metadata": {},
   "outputs": [],
   "source": [
    "def approximateMatching(p, t):\n",
    "    # Create distance matrix\n",
    "    D = []\n",
    "    for i in range(len(p)+1):\n",
    "        D.append([0]*(len(t)+1))\n",
    "    \n",
    "    # Leave first row untouched (all zeros)\n",
    "    # Initialise first column (same as editDistance)\n",
    "    for i in range(len(p)+1):\n",
    "        D[i][0] = i\n",
    "    \n",
    "    # Fill in the rest of the matrix\n",
    "    for i in range(1, len(p)+1):\n",
    "        for j in range(1, len(t)+1):\n",
    "            distHor = D[i][j-1] + 1\n",
    "            distVer = D[i-1][j] + 1\n",
    "            if p[i-1] == t[j-1]:\n",
    "                distDiag = D[i-1][j-1]\n",
    "            else:\n",
    "                distDiag = D[i-1][j-1] + 1\n",
    "            D[i][j] = min(distHor, distVer, distDiag)\n",
    "    \n",
    "    # Edit distance is the minimum value of bottom row\n",
    "    return min(D[-1])"
   ]
  },
  {
   "cell_type": "code",
   "execution_count": 2,
   "metadata": {},
   "outputs": [
    {
     "data": {
      "text/plain": [
       "2"
      ]
     },
     "execution_count": 2,
     "metadata": {},
     "output_type": "execute_result"
    }
   ],
   "source": [
    "p = \"GCGTATGC\"\n",
    "t = \"TATTGGCTATACGGTT\"\n",
    "approximateMatching(p, t)"
   ]
  },
  {
   "cell_type": "code",
   "execution_count": 3,
   "metadata": {},
   "outputs": [],
   "source": [
    "def readGenome(filename):\n",
    "    genome = ''\n",
    "    with open(filename, 'r') as f:\n",
    "        for line in f:\n",
    "            # ignore header line with genome information\n",
    "            if not line[0] == '>':\n",
    "                genome += line.rstrip()\n",
    "    return genome"
   ]
  },
  {
   "cell_type": "code",
   "execution_count": 4,
   "metadata": {},
   "outputs": [],
   "source": [
    "chr1_genome = readGenome(\"chr1.GRCh38.excerpt.fasta\")"
   ]
  },
  {
   "cell_type": "code",
   "execution_count": 5,
   "metadata": {},
   "outputs": [
    {
     "data": {
      "text/plain": [
       "3"
      ]
     },
     "execution_count": 5,
     "metadata": {},
     "output_type": "execute_result"
    }
   ],
   "source": [
    "# question 1\n",
    "approximateMatching(\"GCTGATCGATCGTACG\", chr1_genome)"
   ]
  },
  {
   "cell_type": "code",
   "execution_count": 6,
   "metadata": {},
   "outputs": [
    {
     "data": {
      "text/plain": [
       "2"
      ]
     },
     "execution_count": 6,
     "metadata": {},
     "output_type": "execute_result"
    }
   ],
   "source": [
    "# question 2\n",
    "approximateMatching(\"GATTTACCAGATTGAG\", chr1_genome)"
   ]
  },
  {
   "cell_type": "markdown",
   "metadata": {},
   "source": [
    "## Question 3 & 4"
   ]
  },
  {
   "cell_type": "markdown",
   "metadata": {},
   "source": [
    "`!wget https://d28rh4a8wq0iu5.cloudfront.net/ads1/data/ERR266411_1.for_asm.fastq`"
   ]
  },
  {
   "cell_type": "markdown",
   "metadata": {},
   "source": [
    "Provided below is a useful function to calculate the length of overlap between the longest suffix of `a` matching a prefix of `b`."
   ]
  },
  {
   "cell_type": "code",
   "execution_count": 65,
   "metadata": {},
   "outputs": [],
   "source": [
    "def overlap(a, b, min_length=3):\n",
    "    \"\"\" Return length of longest suffix of 'a' matching\n",
    "        a prefix of 'b' that is at least 'min_length'\n",
    "        characters long.  If no such overlap exists,\n",
    "        return 0. \"\"\"\n",
    "    start = 0  # start all the way at the left\n",
    "    while True:\n",
    "        start = a.find(b[:min_length], start)  # look for b's prefix in a\n",
    "        if start == -1:  # no more occurrences to right\n",
    "            return 0\n",
    "        # found occurrence; check for full suffix/prefix match\n",
    "        if b.startswith(a[start:]):\n",
    "            return len(a)-start\n",
    "        start += 1  # move just past previous match"
   ]
  },
  {
   "cell_type": "markdown",
   "metadata": {},
   "source": [
    "To call this `overlap` function between every possible pair of reads will be very slow. However, let's say we have a read `a` whose length-k suffix **does not occur** anywhere else, it follows that this suffix cannot overlap any of them.\n",
    "\n",
    "This means that we should only call `overlap` on other reads that contain that length-k suffix. This saves a lot of time.\n",
    "\n",
    "We need to first build something like a lookup table for our `overlap` function:\n",
    "\n",
    "* Create a dictionary to associate each k-mer with its own set. Key: k-mer, value: set.\n",
    "* The set includes all reads that contain the corresponding k-mer.\n",
    "* Now, let's say we want to find reads to call `overlap` onto say read `a`, we take the last k-letters of `a`, and find the set associated with that k-mer.\n",
    "* This returns all reads containing the k-mer.\n",
    "* Be aware to ignore a read matching back to itself."
   ]
  },
  {
   "cell_type": "code",
   "execution_count": 71,
   "metadata": {},
   "outputs": [],
   "source": [
    "def generate_read_lut(reads, k):\n",
    "    # create lookup table of read IDs for each k-mer\n",
    "    # iterate across all reads, within with we iterate all k-mers\n",
    "    # if k-mer not yet present, add into the LUT\n",
    "    read_lut = {}\n",
    "    for read in reads:\n",
    "        for i in range(0, len(read)-k+1):\n",
    "            kmer = read[i:i+k]\n",
    "            if read_lut.get(kmer) is None:\n",
    "                read_lut[kmer] = set([read]) # o/w read split into bases\n",
    "            else:\n",
    "                read_lut[kmer].add(read)\n",
    "    return read_lut "
   ]
  },
  {
   "cell_type": "code",
   "execution_count": 87,
   "metadata": {},
   "outputs": [],
   "source": [
    "def overlap_all_pairs(reads, k):\n",
    "    read_lut = generate_read_lut(reads, k)\n",
    "    overlap_list = []\n",
    "    for read in reads:\n",
    "        k_suffix = read[-k:] # get last k-mer\n",
    "        matches = read_lut.get(k_suffix)\n",
    "        if matches is not None:\n",
    "            for match in matches:\n",
    "                if match != read:\n",
    "                    if overlap(read, match, k) != 0:\n",
    "                        overlap_list.append((read, match))\n",
    "    return overlap_list\n",
    "            "
   ]
  },
  {
   "cell_type": "markdown",
   "metadata": {},
   "source": [
    "### Test examples"
   ]
  },
  {
   "cell_type": "code",
   "execution_count": 88,
   "metadata": {},
   "outputs": [],
   "source": [
    "reads = ['ABCDEFG', 'EFGHIJ', 'HIJABC']"
   ]
  },
  {
   "cell_type": "code",
   "execution_count": 89,
   "metadata": {
    "scrolled": true
   },
   "outputs": [
    {
     "data": {
      "text/plain": [
       "[('ABCDEFG', 'EFGHIJ'), ('EFGHIJ', 'HIJABC'), ('HIJABC', 'ABCDEFG')]"
      ]
     },
     "execution_count": 89,
     "metadata": {},
     "output_type": "execute_result"
    }
   ],
   "source": [
    "overlap_all_pairs(reads, 3)"
   ]
  },
  {
   "cell_type": "code",
   "execution_count": 90,
   "metadata": {},
   "outputs": [
    {
     "data": {
      "text/plain": [
       "[]"
      ]
     },
     "execution_count": 90,
     "metadata": {},
     "output_type": "execute_result"
    }
   ],
   "source": [
    "overlap_all_pairs(reads, 4)"
   ]
  },
  {
   "cell_type": "code",
   "execution_count": 91,
   "metadata": {},
   "outputs": [],
   "source": [
    "reads = ['CGTACG', 'TACGTA', 'GTACGT', 'ACGTAC', 'GTACGA', 'TACGAT']"
   ]
  },
  {
   "cell_type": "code",
   "execution_count": 92,
   "metadata": {},
   "outputs": [
    {
     "data": {
      "text/plain": [
       "[('CGTACG', 'GTACGA'),\n",
       " ('CGTACG', 'GTACGT'),\n",
       " ('CGTACG', 'TACGTA'),\n",
       " ('CGTACG', 'TACGAT'),\n",
       " ('TACGTA', 'CGTACG'),\n",
       " ('TACGTA', 'ACGTAC'),\n",
       " ('GTACGT', 'ACGTAC'),\n",
       " ('GTACGT', 'TACGTA'),\n",
       " ('ACGTAC', 'CGTACG'),\n",
       " ('ACGTAC', 'GTACGT'),\n",
       " ('ACGTAC', 'GTACGA'),\n",
       " ('GTACGA', 'TACGAT')]"
      ]
     },
     "execution_count": 92,
     "metadata": {},
     "output_type": "execute_result"
    }
   ],
   "source": [
    "overlap_all_pairs(reads, 4)"
   ]
  },
  {
   "cell_type": "code",
   "execution_count": 93,
   "metadata": {},
   "outputs": [
    {
     "data": {
      "text/plain": [
       "[('CGTACG', 'GTACGT'),\n",
       " ('CGTACG', 'GTACGA'),\n",
       " ('TACGTA', 'ACGTAC'),\n",
       " ('GTACGT', 'TACGTA'),\n",
       " ('ACGTAC', 'CGTACG'),\n",
       " ('GTACGA', 'TACGAT')]"
      ]
     },
     "execution_count": 93,
     "metadata": {},
     "output_type": "execute_result"
    }
   ],
   "source": [
    "overlap_all_pairs(reads, 5)"
   ]
  },
  {
   "cell_type": "markdown",
   "metadata": {},
   "source": [
    "### The actual question"
   ]
  },
  {
   "cell_type": "code",
   "execution_count": 100,
   "metadata": {},
   "outputs": [],
   "source": [
    "def readFastq(filename):\n",
    "    sequences = []\n",
    "    qualities = []\n",
    "    with open(filename) as fh:\n",
    "        while True:\n",
    "            fh.readline()  # skip name line\n",
    "            seq = fh.readline().rstrip()  # read base sequence\n",
    "            fh.readline()  # skip placeholder line\n",
    "            qual = fh.readline().rstrip() # base quality line\n",
    "            if len(seq) == 0:\n",
    "                break\n",
    "            sequences.append(seq)\n",
    "            qualities.append(qual)\n",
    "    return sequences, qualities\n",
    "\n",
    "phix_reads, _ = readFastq(\"ERR266411_1.for_asm.fastq\")"
   ]
  },
  {
   "cell_type": "code",
   "execution_count": 101,
   "metadata": {
    "scrolled": true
   },
   "outputs": [],
   "source": [
    "phix_graph = overlap_all_pairs(phix_reads, 30)"
   ]
  },
  {
   "cell_type": "code",
   "execution_count": 102,
   "metadata": {},
   "outputs": [
    {
     "data": {
      "text/plain": [
       "904746"
      ]
     },
     "execution_count": 102,
     "metadata": {},
     "output_type": "execute_result"
    }
   ],
   "source": [
    "# question 3\n",
    "len(phix_graph)"
   ]
  },
  {
   "cell_type": "code",
   "execution_count": 104,
   "metadata": {},
   "outputs": [
    {
     "data": {
      "text/plain": [
       "('TAAACAAGCAGTAGTAATTCCTGCTTTATCAAGATAATTTTTCGACTCATCAGAAATATCCGAAAGTGTTAACTTCTGCGTCATGGAAGCGATAAAACTC',\n",
       " 'AACAAGCAGTAGTAATTCCTGCTTTATCAAGATAATTTTTCGACTCATCAGAAATATCCGAAAGTGTTAACTTCTGCGTCATGGAAGCGATAAAACTCTG')"
      ]
     },
     "execution_count": 104,
     "metadata": {},
     "output_type": "execute_result"
    }
   ],
   "source": [
    "phix_graph[0]"
   ]
  },
  {
   "cell_type": "code",
   "execution_count": 110,
   "metadata": {},
   "outputs": [
    {
     "data": {
      "text/plain": [
       "7161"
      ]
     },
     "execution_count": 110,
     "metadata": {},
     "output_type": "execute_result"
    }
   ],
   "source": [
    "# question 4\n",
    "len(set(map(lambda x: x[0], phix_graph)))"
   ]
  }
 ],
 "metadata": {
  "kernelspec": {
   "display_name": "Python 3.6.10 64-bit ('data': conda)",
   "language": "python",
   "name": "python361064bitdataconda4426e43f9fe8499a9f454ad5f34dd1fb"
  },
  "language_info": {
   "codemirror_mode": {
    "name": "ipython",
    "version": 3
   },
   "file_extension": ".py",
   "mimetype": "text/x-python",
   "name": "python",
   "nbconvert_exporter": "python",
   "pygments_lexer": "ipython3",
   "version": "3.6.10"
  }
 },
 "nbformat": 4,
 "nbformat_minor": 4
}
